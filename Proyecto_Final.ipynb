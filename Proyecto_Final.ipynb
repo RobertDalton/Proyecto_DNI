{
  "nbformat": 4,
  "nbformat_minor": 0,
  "metadata": {
    "colab": {
      "name": "Proyecto_Final",
      "provenance": [],
      "collapsed_sections": []
    },
    "kernelspec": {
      "name": "python3",
      "display_name": "Python 3"
    },
    "language_info": {
      "name": "python"
    }
  },
  "cells": [
    {
      "cell_type": "markdown",
      "source": [
        "### **Librerías**\n"
      ],
      "metadata": {
        "id": "Dp7SUeOf5fiR"
      }
    },
    {
      "cell_type": "code",
      "execution_count": 2,
      "metadata": {
        "id": "q1WKsl_S5XO1"
      },
      "outputs": [],
      "source": [
        "import pandas as pd\n",
        "import numpy as np\n",
        "import matplotlib.pyplot as plt\n",
        "import seaborn as sns\n",
        "import statsmodels.api as sm\n",
        "import math\n",
        "from scipy import stats\n",
        "\n",
        "from sklearn.feature_selection import SelectKBest, f_regression\n",
        "from sklearn.preprocessing import PowerTransformer,StandardScaler\n",
        "from sklearn.model_selection import train_test_split,cross_val_score\n",
        "from sklearn.compose import ColumnTransformer\n",
        "from sklearn.pipeline import Pipeline\n",
        "\n",
        "from sklearn.linear_model import LinearRegression\n",
        "from sklearn.metrics import mean_squared_error, r2_score\n",
        "from sklearn import linear_model\n",
        "from sklearn.neural_network import MLPRegressor"
      ]
    },
    {
      "cell_type": "markdown",
      "source": [
        "### **ETL**"
      ],
      "metadata": {
        "id": "DKBk7Cpf5p-b"
      }
    },
    {
      "cell_type": "code",
      "source": [
        "from google.colab import drive\n",
        "drive.mount(\"/content/drive\")"
      ],
      "metadata": {
        "colab": {
          "base_uri": "https://localhost:8080/"
        },
        "id": "-mjQfw0z5ng9",
        "outputId": "4eef7c93-0d96-4f68-a037-a75571d266ba"
      },
      "execution_count": 3,
      "outputs": [
        {
          "output_type": "stream",
          "name": "stdout",
          "text": [
            "Mounted at /content/drive\n"
          ]
        }
      ]
    },
    {
      "cell_type": "code",
      "source": [
        "original_data = pd.read_csv(\"/content/drive/MyDrive/DNI_Data.csv\")\n",
        "original_data"
      ],
      "metadata": {
        "colab": {
          "base_uri": "https://localhost:8080/",
          "height": 424
        },
        "id": "CRJau0AH8YSe",
        "outputId": "0d398c8a-7840-4774-8c33-664d9bf839a6"
      },
      "execution_count": 4,
      "outputs": [
        {
          "output_type": "execute_result",
          "data": {
            "text/html": [
              "\n",
              "  <div id=\"df-8d659fb9-dbd1-4bf7-af14-a67a1dce4ee4\">\n",
              "    <div class=\"colab-df-container\">\n",
              "      <div>\n",
              "<style scoped>\n",
              "    .dataframe tbody tr th:only-of-type {\n",
              "        vertical-align: middle;\n",
              "    }\n",
              "\n",
              "    .dataframe tbody tr th {\n",
              "        vertical-align: top;\n",
              "    }\n",
              "\n",
              "    .dataframe thead th {\n",
              "        text-align: right;\n",
              "    }\n",
              "</style>\n",
              "<table border=\"1\" class=\"dataframe\">\n",
              "  <thead>\n",
              "    <tr style=\"text-align: right;\">\n",
              "      <th></th>\n",
              "      <th>Month</th>\n",
              "      <th>DNI</th>\n",
              "      <th>Cloud Type</th>\n",
              "      <th>Dew Point</th>\n",
              "      <th>Solar Zenith Angle</th>\n",
              "      <th>Wind Speed</th>\n",
              "      <th>Relative Humidity</th>\n",
              "      <th>Temperature</th>\n",
              "      <th>Pressure</th>\n",
              "    </tr>\n",
              "  </thead>\n",
              "  <tbody>\n",
              "    <tr>\n",
              "      <th>0</th>\n",
              "      <td>1</td>\n",
              "      <td>0</td>\n",
              "      <td>1</td>\n",
              "      <td>-12</td>\n",
              "      <td>156.44</td>\n",
              "      <td>5.4</td>\n",
              "      <td>67.86</td>\n",
              "      <td>-8</td>\n",
              "      <td>920</td>\n",
              "    </tr>\n",
              "    <tr>\n",
              "      <th>1</th>\n",
              "      <td>1</td>\n",
              "      <td>0</td>\n",
              "      <td>4</td>\n",
              "      <td>-12</td>\n",
              "      <td>155.80</td>\n",
              "      <td>5.3</td>\n",
              "      <td>67.84</td>\n",
              "      <td>-8</td>\n",
              "      <td>920</td>\n",
              "    </tr>\n",
              "    <tr>\n",
              "      <th>2</th>\n",
              "      <td>1</td>\n",
              "      <td>0</td>\n",
              "      <td>4</td>\n",
              "      <td>-12</td>\n",
              "      <td>153.74</td>\n",
              "      <td>5.3</td>\n",
              "      <td>68.31</td>\n",
              "      <td>-8</td>\n",
              "      <td>920</td>\n",
              "    </tr>\n",
              "    <tr>\n",
              "      <th>3</th>\n",
              "      <td>1</td>\n",
              "      <td>0</td>\n",
              "      <td>4</td>\n",
              "      <td>-12</td>\n",
              "      <td>150.58</td>\n",
              "      <td>5.1</td>\n",
              "      <td>68.30</td>\n",
              "      <td>-8</td>\n",
              "      <td>920</td>\n",
              "    </tr>\n",
              "    <tr>\n",
              "      <th>4</th>\n",
              "      <td>1</td>\n",
              "      <td>0</td>\n",
              "      <td>4</td>\n",
              "      <td>-12</td>\n",
              "      <td>146.64</td>\n",
              "      <td>5.0</td>\n",
              "      <td>69.20</td>\n",
              "      <td>-8</td>\n",
              "      <td>920</td>\n",
              "    </tr>\n",
              "    <tr>\n",
              "      <th>...</th>\n",
              "      <td>...</td>\n",
              "      <td>...</td>\n",
              "      <td>...</td>\n",
              "      <td>...</td>\n",
              "      <td>...</td>\n",
              "      <td>...</td>\n",
              "      <td>...</td>\n",
              "      <td>...</td>\n",
              "      <td>...</td>\n",
              "    </tr>\n",
              "    <tr>\n",
              "      <th>17515</th>\n",
              "      <td>12</td>\n",
              "      <td>0</td>\n",
              "      <td>1</td>\n",
              "      <td>-12</td>\n",
              "      <td>141.43</td>\n",
              "      <td>5.2</td>\n",
              "      <td>68.51</td>\n",
              "      <td>-8</td>\n",
              "      <td>920</td>\n",
              "    </tr>\n",
              "    <tr>\n",
              "      <th>17516</th>\n",
              "      <td>12</td>\n",
              "      <td>0</td>\n",
              "      <td>1</td>\n",
              "      <td>-12</td>\n",
              "      <td>145.95</td>\n",
              "      <td>5.2</td>\n",
              "      <td>68.30</td>\n",
              "      <td>-8</td>\n",
              "      <td>920</td>\n",
              "    </tr>\n",
              "    <tr>\n",
              "      <th>17517</th>\n",
              "      <td>12</td>\n",
              "      <td>0</td>\n",
              "      <td>7</td>\n",
              "      <td>-12</td>\n",
              "      <td>149.99</td>\n",
              "      <td>5.2</td>\n",
              "      <td>68.28</td>\n",
              "      <td>-8</td>\n",
              "      <td>920</td>\n",
              "    </tr>\n",
              "    <tr>\n",
              "      <th>17518</th>\n",
              "      <td>12</td>\n",
              "      <td>0</td>\n",
              "      <td>7</td>\n",
              "      <td>-12</td>\n",
              "      <td>153.30</td>\n",
              "      <td>5.2</td>\n",
              "      <td>67.91</td>\n",
              "      <td>-8</td>\n",
              "      <td>920</td>\n",
              "    </tr>\n",
              "    <tr>\n",
              "      <th>17519</th>\n",
              "      <td>12</td>\n",
              "      <td>0</td>\n",
              "      <td>7</td>\n",
              "      <td>-12</td>\n",
              "      <td>155.55</td>\n",
              "      <td>5.3</td>\n",
              "      <td>67.88</td>\n",
              "      <td>-8</td>\n",
              "      <td>920</td>\n",
              "    </tr>\n",
              "  </tbody>\n",
              "</table>\n",
              "<p>17520 rows × 9 columns</p>\n",
              "</div>\n",
              "      <button class=\"colab-df-convert\" onclick=\"convertToInteractive('df-8d659fb9-dbd1-4bf7-af14-a67a1dce4ee4')\"\n",
              "              title=\"Convert this dataframe to an interactive table.\"\n",
              "              style=\"display:none;\">\n",
              "        \n",
              "  <svg xmlns=\"http://www.w3.org/2000/svg\" height=\"24px\"viewBox=\"0 0 24 24\"\n",
              "       width=\"24px\">\n",
              "    <path d=\"M0 0h24v24H0V0z\" fill=\"none\"/>\n",
              "    <path d=\"M18.56 5.44l.94 2.06.94-2.06 2.06-.94-2.06-.94-.94-2.06-.94 2.06-2.06.94zm-11 1L8.5 8.5l.94-2.06 2.06-.94-2.06-.94L8.5 2.5l-.94 2.06-2.06.94zm10 10l.94 2.06.94-2.06 2.06-.94-2.06-.94-.94-2.06-.94 2.06-2.06.94z\"/><path d=\"M17.41 7.96l-1.37-1.37c-.4-.4-.92-.59-1.43-.59-.52 0-1.04.2-1.43.59L10.3 9.45l-7.72 7.72c-.78.78-.78 2.05 0 2.83L4 21.41c.39.39.9.59 1.41.59.51 0 1.02-.2 1.41-.59l7.78-7.78 2.81-2.81c.8-.78.8-2.07 0-2.86zM5.41 20L4 18.59l7.72-7.72 1.47 1.35L5.41 20z\"/>\n",
              "  </svg>\n",
              "      </button>\n",
              "      \n",
              "  <style>\n",
              "    .colab-df-container {\n",
              "      display:flex;\n",
              "      flex-wrap:wrap;\n",
              "      gap: 12px;\n",
              "    }\n",
              "\n",
              "    .colab-df-convert {\n",
              "      background-color: #E8F0FE;\n",
              "      border: none;\n",
              "      border-radius: 50%;\n",
              "      cursor: pointer;\n",
              "      display: none;\n",
              "      fill: #1967D2;\n",
              "      height: 32px;\n",
              "      padding: 0 0 0 0;\n",
              "      width: 32px;\n",
              "    }\n",
              "\n",
              "    .colab-df-convert:hover {\n",
              "      background-color: #E2EBFA;\n",
              "      box-shadow: 0px 1px 2px rgba(60, 64, 67, 0.3), 0px 1px 3px 1px rgba(60, 64, 67, 0.15);\n",
              "      fill: #174EA6;\n",
              "    }\n",
              "\n",
              "    [theme=dark] .colab-df-convert {\n",
              "      background-color: #3B4455;\n",
              "      fill: #D2E3FC;\n",
              "    }\n",
              "\n",
              "    [theme=dark] .colab-df-convert:hover {\n",
              "      background-color: #434B5C;\n",
              "      box-shadow: 0px 1px 3px 1px rgba(0, 0, 0, 0.15);\n",
              "      filter: drop-shadow(0px 1px 2px rgba(0, 0, 0, 0.3));\n",
              "      fill: #FFFFFF;\n",
              "    }\n",
              "  </style>\n",
              "\n",
              "      <script>\n",
              "        const buttonEl =\n",
              "          document.querySelector('#df-8d659fb9-dbd1-4bf7-af14-a67a1dce4ee4 button.colab-df-convert');\n",
              "        buttonEl.style.display =\n",
              "          google.colab.kernel.accessAllowed ? 'block' : 'none';\n",
              "\n",
              "        async function convertToInteractive(key) {\n",
              "          const element = document.querySelector('#df-8d659fb9-dbd1-4bf7-af14-a67a1dce4ee4');\n",
              "          const dataTable =\n",
              "            await google.colab.kernel.invokeFunction('convertToInteractive',\n",
              "                                                     [key], {});\n",
              "          if (!dataTable) return;\n",
              "\n",
              "          const docLinkHtml = 'Like what you see? Visit the ' +\n",
              "            '<a target=\"_blank\" href=https://colab.research.google.com/notebooks/data_table.ipynb>data table notebook</a>'\n",
              "            + ' to learn more about interactive tables.';\n",
              "          element.innerHTML = '';\n",
              "          dataTable['output_type'] = 'display_data';\n",
              "          await google.colab.output.renderOutput(dataTable, element);\n",
              "          const docLink = document.createElement('div');\n",
              "          docLink.innerHTML = docLinkHtml;\n",
              "          element.appendChild(docLink);\n",
              "        }\n",
              "      </script>\n",
              "    </div>\n",
              "  </div>\n",
              "  "
            ],
            "text/plain": [
              "       Month  DNI  Cloud Type  ...  Relative Humidity  Temperature  Pressure\n",
              "0          1    0           1  ...              67.86           -8       920\n",
              "1          1    0           4  ...              67.84           -8       920\n",
              "2          1    0           4  ...              68.31           -8       920\n",
              "3          1    0           4  ...              68.30           -8       920\n",
              "4          1    0           4  ...              69.20           -8       920\n",
              "...      ...  ...         ...  ...                ...          ...       ...\n",
              "17515     12    0           1  ...              68.51           -8       920\n",
              "17516     12    0           1  ...              68.30           -8       920\n",
              "17517     12    0           7  ...              68.28           -8       920\n",
              "17518     12    0           7  ...              67.91           -8       920\n",
              "17519     12    0           7  ...              67.88           -8       920\n",
              "\n",
              "[17520 rows x 9 columns]"
            ]
          },
          "metadata": {},
          "execution_count": 4
        }
      ]
    },
    {
      "cell_type": "markdown",
      "source": [
        "### **Data Clean and Validation**"
      ],
      "metadata": {
        "id": "nCx5KjxC5us8"
      }
    },
    {
      "cell_type": "code",
      "source": [
        "# Data Types are Correct, but is better to have strings in Month and Cloud Type\n",
        "original_data.dtypes "
      ],
      "metadata": {
        "colab": {
          "base_uri": "https://localhost:8080/"
        },
        "id": "ut2tc9SV50uZ",
        "outputId": "c19e878c-6727-440c-96bf-61bddfa40d35"
      },
      "execution_count": 5,
      "outputs": [
        {
          "output_type": "execute_result",
          "data": {
            "text/plain": [
              "Month                   int64\n",
              "DNI                     int64\n",
              "Cloud Type              int64\n",
              "Dew Point               int64\n",
              "Solar Zenith Angle    float64\n",
              "Wind Speed            float64\n",
              "Relative Humidity     float64\n",
              "Temperature             int64\n",
              "Pressure                int64\n",
              "dtype: object"
            ]
          },
          "metadata": {},
          "execution_count": 5
        }
      ]
    },
    {
      "cell_type": "code",
      "source": [
        "original_data['Month']= original_data['Month'].astype('string')\n",
        "original_data['Cloud Type']= original_data['Cloud Type'].astype('string')"
      ],
      "metadata": {
        "id": "KqsBm7Oa8h_b"
      },
      "execution_count": 6,
      "outputs": []
    },
    {
      "cell_type": "code",
      "source": [
        "#There are not Nan values\n",
        "original_data.isnull().sum()"
      ],
      "metadata": {
        "colab": {
          "base_uri": "https://localhost:8080/"
        },
        "id": "vVxOy3eh8ku0",
        "outputId": "e4f4e84b-3994-4cc4-b120-4ba2efd07577"
      },
      "execution_count": 7,
      "outputs": [
        {
          "output_type": "execute_result",
          "data": {
            "text/plain": [
              "Month                 0\n",
              "DNI                   0\n",
              "Cloud Type            0\n",
              "Dew Point             0\n",
              "Solar Zenith Angle    0\n",
              "Wind Speed            0\n",
              "Relative Humidity     0\n",
              "Temperature           0\n",
              "Pressure              0\n",
              "dtype: int64"
            ]
          },
          "metadata": {},
          "execution_count": 7
        }
      ]
    },
    {
      "cell_type": "markdown",
      "source": [
        "### **EDA**"
      ],
      "metadata": {
        "id": "HbEQ93Qz51MN"
      }
    },
    {
      "cell_type": "code",
      "source": [
        "numeric_columns = original_data.select_dtypes(include=np.number).columns.tolist()\n",
        "label_columns = [\"Month\",\"Cloud Type\"]"
      ],
      "metadata": {
        "id": "hOQUomyo6XSj"
      },
      "execution_count": null,
      "outputs": []
    },
    {
      "cell_type": "code",
      "source": [
        "original_data.describe()"
      ],
      "metadata": {
        "id": "G9Xv_9_f9jgL"
      },
      "execution_count": null,
      "outputs": []
    },
    {
      "cell_type": "code",
      "source": [
        "original_data.describe(exclude=[np.number])"
      ],
      "metadata": {
        "id": "GgTWMh899jnQ"
      },
      "execution_count": null,
      "outputs": []
    },
    {
      "cell_type": "code",
      "source": [
        "k = int(np.ceil(1 + np.log2(original_data.shape[1]))) # Using Sturges Rule to determine the number of bins\n",
        "original_data[numeric_columns].hist(bins = k, figsize=(12,12),color=\"purple\")\n",
        "plt.show()"
      ],
      "metadata": {
        "id": "xIITPaPz9sN7"
      },
      "execution_count": null,
      "outputs": []
    },
    {
      "cell_type": "code",
      "source": [
        "plt.figure(figsize=(12,8))\n",
        "original_data.boxplot(vert=False)\n",
        "plt.show()"
      ],
      "metadata": {
        "id": "XPQxAePE9sQ_"
      },
      "execution_count": null,
      "outputs": []
    },
    {
      "cell_type": "code",
      "source": [
        "plotf = original_data[numeric_columns + [\"Month\"]]\n",
        "sns.pairplot(plotf,hue=\"Month\")\n",
        "plt.show()"
      ],
      "metadata": {
        "id": "hP154YTo9zWx"
      },
      "execution_count": null,
      "outputs": []
    },
    {
      "cell_type": "code",
      "source": [
        "plotf = original_data[numeric_columns + [\"Cloud Type\"]]\n",
        "sns.pairplot(plotf,hue=\"Cloud Type\")\n",
        "plt.show()"
      ],
      "metadata": {
        "id": "o4dxEZi49zj0"
      },
      "execution_count": null,
      "outputs": []
    },
    {
      "cell_type": "code",
      "source": [
        "correlation = original_data[numeric_columns].corr()\n",
        "plt.figure(figsize = (8,8))\n",
        "ax = sns.heatmap(correlation,vmax=1, square = True, cmap=\"inferno\",annot=True)"
      ],
      "metadata": {
        "id": "JYOQEqA693QV"
      },
      "execution_count": null,
      "outputs": []
    },
    {
      "cell_type": "markdown",
      "source": [
        "### **Choosing Best Predictors**"
      ],
      "metadata": {
        "id": "2WOBRrG66Y3q"
      }
    },
    {
      "cell_type": "code",
      "source": [
        "kb = SelectKBest(k=\"all\", score_func=f_regression)\n",
        "target = \"DNI\"\n",
        "xp = original_data[[x for x in original_data[numeric_columns].columns if x!= target]]\n",
        "yp = original_data[target]\n",
        "\n",
        "fit = kb.fit(xp, yp.values.ravel())\n",
        "index = np.argsort(fit.scores_)[::-1]\n",
        "features = [] # These list are using to store the scores and features\n",
        "scores = []\n",
        "for i in range(len(index)):\n",
        "    features.append(xp.columns[index[i]])\n",
        "    scores.append(fit.scores_[[index[i]][0]]) #In this part I am store the scores and features\n",
        "\n",
        "# This dataframe is used to create a better Plot\n",
        "Best= {'Column': features, 'Scores': scores }  \n",
        "df = pd.DataFrame(Best)  \n",
        "Best10= {'Column': features[0:10], 'Scores': scores[0:10] }  \n",
        "df10 = pd.DataFrame(Best10)  \n",
        "# Here we plot the Data Frame\n",
        "sns.barplot(x='Scores',y='Column',data=df10,orient=\"h\",palette=\"inferno\")\n",
        "plt.show()"
      ],
      "metadata": {
        "id": "J4x7SoZS6icl"
      },
      "execution_count": null,
      "outputs": []
    },
    {
      "cell_type": "markdown",
      "source": [
        "### **Check Normality**"
      ],
      "metadata": {
        "id": "3RhdO2PP6h16"
      }
    },
    {
      "cell_type": "code",
      "source": [
        "Solar_angle = original_data[\"Solar Zenith Angle\"]\n",
        "fig, ax = plt.subplots(figsize=(7,4))\n",
        "sm.qqplot(\n",
        "    Solar_angle,\n",
        "    fit   = True,\n",
        "    line  = 'q',\n",
        "    alpha = 0.4,\n",
        "    lw    = 2,\n",
        "    ax    = ax\n",
        ")\n",
        "ax.set_title('QQ Graph of Solar Zenit Angle', fontsize = 10,\n",
        "             fontweight = \"bold\")\n",
        "ax.tick_params(labelsize = 7)"
      ],
      "metadata": {
        "id": "Xj-dyL9W65hF"
      },
      "execution_count": null,
      "outputs": []
    },
    {
      "cell_type": "code",
      "source": [
        "humidity = original_data[\"Relative Humidity\"]\n",
        "fig, ax = plt.subplots(figsize=(7,4))\n",
        "sm.qqplot(\n",
        "    humidity,\n",
        "    fit   = True,\n",
        "    line  = 'q',\n",
        "    alpha = 0.4,\n",
        "    lw    = 2,\n",
        "    ax    = ax\n",
        ")\n",
        "ax.set_title('QQ Graph of Relative Humidity', fontsize = 10,\n",
        "             fontweight = \"bold\")\n",
        "ax.tick_params(labelsize = 7)"
      ],
      "metadata": {
        "id": "rz0g59yl-NwZ"
      },
      "execution_count": null,
      "outputs": []
    },
    {
      "cell_type": "code",
      "source": [
        "temperature = original_data[\"Temperature\"]\n",
        "fig, ax = plt.subplots(figsize=(7,4))\n",
        "sm.qqplot(\n",
        "    temperature,\n",
        "    fit   = True,\n",
        "    line  = 'q',\n",
        "    alpha = 0.4,\n",
        "    lw    = 2,\n",
        "    ax    = ax\n",
        ")\n",
        "ax.set_title('QQ Graph of Temperature', fontsize = 10,\n",
        "             fontweight = \"bold\")\n",
        "ax.tick_params(labelsize = 7)"
      ],
      "metadata": {
        "id": "wE7s6FqD-N3a"
      },
      "execution_count": null,
      "outputs": []
    },
    {
      "cell_type": "markdown",
      "source": [
        "### **Split Data**"
      ],
      "metadata": {
        "id": "19GSlHKH65rE"
      }
    },
    {
      "cell_type": "code",
      "source": [
        "xs = original_data[[\"Solar Zenith Angle\",\"Relative Humidity\",\"Temperature\"]]\n",
        "y = original_data[\"DNI\"]\n",
        "\n",
        "X_train, X_test, y_train, y_test = train_test_split(xs, y,test_size=0.2,random_state=3)"
      ],
      "metadata": {
        "id": "WWJ6yBrI6-By"
      },
      "execution_count": null,
      "outputs": []
    },
    {
      "cell_type": "code",
      "source": [
        "print(f\"The X train values are {X_train.shape[0]}\")\n",
        "print(f\"The X test values are {X_test.shape[0]}\")\n",
        "print(f\"The Y values are {y_train.shape[0]}\")\n",
        "print(f\"The Y test values are {y_test.shape[0]}\")\n",
        "xs_labels = [\"Solar Zenith Angle\",\"Relative Humidity\",\"Temperature\"]"
      ],
      "metadata": {
        "id": "pRIGZnzo-dLr"
      },
      "execution_count": null,
      "outputs": []
    },
    {
      "cell_type": "markdown",
      "source": [
        "### **Preprocesing Data**"
      ],
      "metadata": {
        "id": "wB2wOXrg6-M5"
      }
    },
    {
      "cell_type": "code",
      "source": [
        "pipeline = Pipeline([\n",
        "      (\"Scaler\", StandardScaler()),\n",
        "      (\"Transformation\", PowerTransformer(method='yeo-johnson'))\n",
        "])\n",
        "\n",
        "preprocessing_pipe = ColumnTransformer([\n",
        "      (\"pipeline\",pipeline,xs_labels),\n",
        "])"
      ],
      "metadata": {
        "id": "bSBiOWR97ELG"
      },
      "execution_count": null,
      "outputs": []
    },
    {
      "cell_type": "code",
      "source": [
        "X_train = preprocessing_pipe.fit_transform(X_train)\n",
        "X_test  = preprocessing_pipe.transform(X_test)"
      ],
      "metadata": {
        "id": "BrBAEUSC-oPr"
      },
      "execution_count": null,
      "outputs": []
    },
    {
      "cell_type": "markdown",
      "source": [
        "### **Models and Validation**"
      ],
      "metadata": {
        "id": "Z8yk-KuH7Ebm"
      }
    },
    {
      "cell_type": "markdown",
      "source": [
        "- **Linear Regression**"
      ],
      "metadata": {
        "id": "PPh3kzw-7K_G"
      }
    },
    {
      "cell_type": "code",
      "source": [
        "LR = linear_model.LinearRegression()\n",
        "LR.fit(X_train,y_train.values.ravel())"
      ],
      "metadata": {
        "id": "w0Zlu2tv7OXX"
      },
      "execution_count": null,
      "outputs": []
    },
    {
      "cell_type": "code",
      "source": [
        "y_pred = LR.predict(X_test)\n",
        "\n",
        "print('Coefficients:', LR.coef_)\n",
        "print('Intercept:', LR.intercept_)\n",
        "print('Mean squared error (MSE): %.2f'\n",
        "      % mean_squared_error(y_test, y_pred))\n",
        "print('Root Mean squared error (RMSE): %.2f'\n",
        "      % math.sqrt(mean_squared_error(y_test, y_pred)))\n",
        "print('Coefficient of determination (R^2): %.2f'\n",
        "      % r2_score(y_test, y_pred))\n"
      ],
      "metadata": {
        "id": "T0vCy7rs-uu-"
      },
      "execution_count": null,
      "outputs": []
    },
    {
      "cell_type": "markdown",
      "source": [
        "- **Ridge Regression**"
      ],
      "metadata": {
        "id": "sfwej5XZ7Pnq"
      }
    },
    {
      "cell_type": "code",
      "source": [
        "LRR = linear_model.Ridge(0.3) #0.1, 0.3, 0.5, 1\n",
        "LRR.fit(X_train,y_train.values.ravel())"
      ],
      "metadata": {
        "id": "J5dXe6C_7Tn3"
      },
      "execution_count": null,
      "outputs": []
    },
    {
      "cell_type": "code",
      "source": [
        "y_pred_ridge = LRR.predict(X_test)\n",
        "\n",
        "print('Coefficients:', LRR.coef_)\n",
        "print('Intercept:', LRR.intercept_)\n",
        "print('Mean squared error (MSE): %.2f'\n",
        "      % mean_squared_error(y_test, y_pred_ridge))\n",
        "print('Root Mean squared error (RMSE): %.2f'\n",
        "      % math.sqrt(mean_squared_error(y_test, y_pred)))\n",
        "print('Coefficient of determination (R^2): %.2f'\n",
        "      % r2_score(y_test, y_pred_ridge))"
      ],
      "metadata": {
        "id": "WnPY0bsV-500"
      },
      "execution_count": null,
      "outputs": []
    },
    {
      "cell_type": "markdown",
      "source": [
        "- **Neural Network**"
      ],
      "metadata": {
        "id": "yAnB-b4W7T6V"
      }
    },
    {
      "cell_type": "code",
      "source": [
        "NN = MLPRegressor(random_state=1, max_iter=2000)\n",
        "NN.fit(X_train, y_train.values.ravel())"
      ],
      "metadata": {
        "id": "BsDP4cQZ7XTA"
      },
      "execution_count": null,
      "outputs": []
    },
    {
      "cell_type": "code",
      "source": [
        "y_pred_NN = NN.predict(X_test)\n",
        "a = mean_squared_error(y_test, y_pred_NN)\n",
        "b = math.sqrt(a)\n",
        "r = r2_score(y_test, y_pred_NN)\n",
        "\n",
        "print('Mean squared error (MSE): %.2f'\n",
        "      % a)\n",
        "print('Root Mean squared error (RMSE): %.2f'\n",
        "      % b)\n",
        "print('Coefficient of determination (R^2): %.2f'\n",
        "      % r)\n"
      ],
      "metadata": {
        "id": "Y0gJoVBa_BnJ"
      },
      "execution_count": null,
      "outputs": []
    }
  ]
}